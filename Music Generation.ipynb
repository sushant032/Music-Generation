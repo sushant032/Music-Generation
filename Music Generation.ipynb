{
 "cells": [
  {
   "cell_type": "code",
   "execution_count": 1,
   "metadata": {},
   "outputs": [
    {
     "name": "stderr",
     "output_type": "stream",
     "text": [
      "Using TensorFlow backend.\n"
     ]
    }
   ],
   "source": [
    "import os\n",
    "import json\n",
    "import numpy as np\n",
    "import pandas as pd\n",
    "from keras.models import Sequential\n",
    "from keras.layers import LSTM, Dropout, Dense, Activation, Embedding"
   ]
  },
  {
   "cell_type": "code",
   "execution_count": 2,
   "metadata": {},
   "outputs": [],
   "source": [
    "data_directory = \"Data2/\"\n",
    "data_file = \"Data_Tunes.txt\"\n",
    "charIndex_json = \"char_to_index.json\"\n",
    "model_weights_directory = 'Data2/Model_Weights/'\n",
    "BATCH_SIZE = 16\n",
    "SEQ_LENGTH = 64"
   ]
  },
  {
   "cell_type": "code",
   "execution_count": 3,
   "metadata": {},
   "outputs": [],
   "source": [
    "def make_model(unique_chars):\n",
    "    model = Sequential()\n",
    "    \n",
    "    model.add(Embedding(input_dim = unique_chars, output_dim = 512, batch_input_shape = (1, 1))) \n",
    "  \n",
    "    model.add(LSTM(256, return_sequences = True, stateful = True))\n",
    "    model.add(Dropout(0.2))\n",
    "    \n",
    "    model.add(LSTM(256, return_sequences = True, stateful = True))\n",
    "    model.add(Dropout(0.2))\n",
    "    \n",
    "    model.add(LSTM(256, stateful = True)) \n",
    "    #rem ember, that here we haven't given return_sequences = True because here we will give only one character to generate the\n",
    "    #sequence. In the end, we just have to get one output which is equivalent to getting output at the last time-stamp. So, here\n",
    "    #in last layer there is no need of giving return sequences = True.\n",
    "    model.add(Dropout(0.2))\n",
    "    \n",
    "    model.add((Dense(unique_chars)))\n",
    "    model.add(Activation(\"softmax\"))\n",
    "    \n",
    "    return model"
   ]
  },
  {
   "cell_type": "code",
   "execution_count": 4,
   "metadata": {},
   "outputs": [],
   "source": [
    "def generate_sequence(epoch_num, initial_index, seq_length):\n",
    "    with open(os.path.join(data_directory, charIndex_json)) as f:\n",
    "        char_to_index = json.load(f)\n",
    "    index_to_char = {i:ch for ch, i in char_to_index.items()}\n",
    "    unique_chars = len(index_to_char)\n",
    "    \n",
    "    model = make_model(unique_chars)\n",
    "    model.load_weights(model_weights_directory + \"Weights_{}.h5\".format(epoch_num))\n",
    "     \n",
    "    sequence_index = [initial_index]\n",
    "    \n",
    "    for _ in range(seq_length):\n",
    "        batch = np.zeros((1, 1))\n",
    "        batch[0, 0] = sequence_index[-1]\n",
    "        \n",
    "        predicted_probs = model.predict_on_batch(batch).ravel()\n",
    "        sample = np.random.choice(range(unique_chars), size = 1, p = predicted_probs)\n",
    "        \n",
    "        sequence_index.append(sample[0])\n",
    "    \n",
    "    seq = ''.join(index_to_char[c] for c in sequence_index)\n",
    "    \n",
    "    cnt = 0\n",
    "    print(seq)\n",
    "    for i in seq:\n",
    "        cnt += 1\n",
    "        if i == \"\\n\":\n",
    "            break\n",
    "    seq1 = seq[cnt:]\n",
    "    #above code is for ignoring the starting string of a generated sequence. This is because we are passing any arbitrary \n",
    "    #character to the model for generating music. Now, the model start generating sequence from that character itself which we \n",
    "    #have passed, so first few characters before \"\\n\" contains meaningless word. Model start generating the music rhythm from\n",
    "    #next line onwards. The correct sequence it start generating from next line onwards which we are considering.\n",
    "    \n",
    "    cnt = 0\n",
    "    for i in seq1:\n",
    "        cnt += 1\n",
    "        if i == \"\\n\" and seq1[cnt] == \"\\n\":\n",
    "            break\n",
    "    seq2 = seq1[:cnt]\n",
    "    #Now our data contains three newline characters after every tune. So, the model has leart that too. So, above code is used for\n",
    "    #ignoring all the characters that model has generated after three new line characters. So, here we are considering only one\n",
    "    #tune of music at a time and finally we are returning it..\n",
    "    \n",
    "    return seq2"
   ]
  },
  {
   "cell_type": "code",
   "execution_count": 6,
   "metadata": {},
   "outputs": [
    {
     "name": "stdout",
     "output_type": "stream",
     "text": [
      "DF |\n",
      "M:6/8\n",
      "K:A\n",
      "P:A\n",
      "E|\"A\"E2A A^GA|\"E\"B2B e2d|\"A\"c2A AGA|\"E\"B2A B2c|\"E7\"d2B c2d|\n",
      "\"A\"e2c \"B7\"Baf|\"E\"e2e e2=e|\"3\"efe cBA|\"D\"dfg \"A\"a3|\n",
      "P:B\n",
      "f|\"A\"ecA Ace|\"D\"fga \"A\"ecA|\"E7\"B2G \"A\"AAc|\"D\"d3 -d2::\n",
      "A|\"G\"GFG BAG|\"D\"F2A d2e|\"D\"f2f fed|\"D\"f2d f2g|\n",
      "\"Am\"aba agf|\"C\"ede g2f|\"D\"fga \"A7\"gfe|\"Dm\"d3 -d2:|\n",
      "\n",
      "\n",
      "X: 264\n",
      "T:Laml Hankine\n",
      "% Nottingham Music Database\n",
      "S:Lesley Dolman, via EF\n",
      "M:6/8\n",
      "K:D\n",
      "P:A\n",
      "f/2g/2|\"D\"aba \"A7/e\"faf|\n",
      "\n",
      "MUSIC SEQUENCE GENERATED: \n",
      "\n",
      "M:6/8\n",
      "K:A\n",
      "P:A\n",
      "E|\"A\"E2A A^GA|\"E\"B2B e2d|\"A\"c2A AGA|\"E\"B2A B2c|\"E7\"d2B c2d|\n",
      "\"A\"e2c \"B7\"Baf|\"E\"e2e e2=e|\"3\"efe cBA|\"D\"dfg \"A\"a3|\n",
      "P:B\n",
      "f|\"A\"ecA Ace|\"D\"fga \"A\"ecA|\"E7\"B2G \"A\"AAc|\"D\"d3 -d2::\n",
      "A|\"G\"GFG BAG|\"D\"F2A d2e|\"D\"f2f fed|\"D\"f2d f2g|\n",
      "\"Am\"aba agf|\"C\"ede g2f|\"D\"fga \"A7\"gfe|\"Dm\"d3 -d2:|\n",
      "\n"
     ]
    }
   ],
   "source": [
    "##### ep = int(input())\n",
    "ar = int(input(\"\\n1.Initial character 0-86 \"))\n",
    "ln = int(input(\"\\n2. Length of music sequence \"))\n",
    "\n",
    "ep = 90\n",
    "music = generate_sequence(ep, ar, ln)\n",
    "\n",
    "print(\"\\nMUSIC SEQUENCE GENERATED: \\n\")\n",
    "\n",
    "print(music)"
   ]
  },
  {
   "cell_type": "code",
   "execution_count": null,
   "metadata": {},
   "outputs": [],
   "source": []
  }
 ],
 "metadata": {
  "kernelspec": {
   "display_name": "TensorFlow-GPU",
   "language": "python",
   "name": "tf-gpu"
  },
  "language_info": {
   "codemirror_mode": {
    "name": "ipython",
    "version": 3
   },
   "file_extension": ".py",
   "mimetype": "text/x-python",
   "name": "python",
   "nbconvert_exporter": "python",
   "pygments_lexer": "ipython3",
   "version": "3.6.6"
  }
 },
 "nbformat": 4,
 "nbformat_minor": 2
}
